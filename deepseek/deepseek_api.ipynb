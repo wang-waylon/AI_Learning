{
 "cells": [
  {
   "cell_type": "code",
   "execution_count": 1,
   "id": "8fea10b4-5528-4881-8b53-ddcb69d3e228",
   "metadata": {},
   "outputs": [
    {
     "name": "stdout",
     "output_type": "stream",
     "text": [
      "Looking in indexes: http://mirrors.tencentyun.com/pypi/simple\n",
      "Requirement already satisfied: openai==1.82.0 in ./miniconda3/envs/deepseek/lib/python3.13/site-packages (1.82.0)\n",
      "Requirement already satisfied: anyio<5,>=3.5.0 in ./miniconda3/envs/deepseek/lib/python3.13/site-packages (from openai==1.82.0) (4.9.0)\n",
      "Requirement already satisfied: distro<2,>=1.7.0 in ./miniconda3/envs/deepseek/lib/python3.13/site-packages (from openai==1.82.0) (1.9.0)\n",
      "Requirement already satisfied: httpx<1,>=0.23.0 in ./miniconda3/envs/deepseek/lib/python3.13/site-packages (from openai==1.82.0) (0.28.1)\n",
      "Requirement already satisfied: jiter<1,>=0.4.0 in ./miniconda3/envs/deepseek/lib/python3.13/site-packages (from openai==1.82.0) (0.10.0)\n",
      "Requirement already satisfied: pydantic<3,>=1.9.0 in ./miniconda3/envs/deepseek/lib/python3.13/site-packages (from openai==1.82.0) (2.11.5)\n",
      "Requirement already satisfied: sniffio in ./miniconda3/envs/deepseek/lib/python3.13/site-packages (from openai==1.82.0) (1.3.1)\n",
      "Requirement already satisfied: tqdm>4 in ./miniconda3/envs/deepseek/lib/python3.13/site-packages (from openai==1.82.0) (4.67.1)\n",
      "Requirement already satisfied: typing-extensions<5,>=4.11 in ./miniconda3/envs/deepseek/lib/python3.13/site-packages (from openai==1.82.0) (4.14.0)\n",
      "Requirement already satisfied: idna>=2.8 in ./miniconda3/envs/deepseek/lib/python3.13/site-packages (from anyio<5,>=3.5.0->openai==1.82.0) (3.10)\n",
      "Requirement already satisfied: certifi in ./miniconda3/envs/deepseek/lib/python3.13/site-packages (from httpx<1,>=0.23.0->openai==1.82.0) (2025.4.26)\n",
      "Requirement already satisfied: httpcore==1.* in ./miniconda3/envs/deepseek/lib/python3.13/site-packages (from httpx<1,>=0.23.0->openai==1.82.0) (1.0.9)\n",
      "Requirement already satisfied: h11>=0.16 in ./miniconda3/envs/deepseek/lib/python3.13/site-packages (from httpcore==1.*->httpx<1,>=0.23.0->openai==1.82.0) (0.16.0)\n",
      "Requirement already satisfied: annotated-types>=0.6.0 in ./miniconda3/envs/deepseek/lib/python3.13/site-packages (from pydantic<3,>=1.9.0->openai==1.82.0) (0.7.0)\n",
      "Requirement already satisfied: pydantic-core==2.33.2 in ./miniconda3/envs/deepseek/lib/python3.13/site-packages (from pydantic<3,>=1.9.0->openai==1.82.0) (2.33.2)\n",
      "Requirement already satisfied: typing-inspection>=0.4.0 in ./miniconda3/envs/deepseek/lib/python3.13/site-packages (from pydantic<3,>=1.9.0->openai==1.82.0) (0.4.1)\n"
     ]
    }
   ],
   "source": [
    "!pip install openai==1.82.0"
   ]
  },
  {
   "cell_type": "code",
   "execution_count": 2,
   "id": "f582df24-65dd-4ae2-a212-a54cb2fef54b",
   "metadata": {},
   "outputs": [],
   "source": [
    "import os\n",
    "from openai import OpenAI\n",
    "\n",
    "# 从环境变量获取 DeepSeek API Key\n",
    "api_key = os.getenv(\"DEEPSEEK_API_KEY\")\n",
    "if not api_key:\n",
    "    raise ValueError(\"请设置 DEEPSEEK_API_KEY 环境变量\")\n",
    "\n",
    "# 初始化 OpenAI 客户端（假设 DeepSeek 的 API 兼容 OpenAI 格式）\n",
    "client = OpenAI(\n",
    "    api_key=api_key,\n",
    "    base_url=\"https://api.deepseek.com/v1\",  # DeepSeek API 的基地址\n",
    ")\n",
    "\n",
    "# 定义提示词\n",
    "prompt = \"\"\"请帮我用 HTML 生成一个五子棋游戏，所有代码都保存在一个 HTML 中。\"\"\""
   ]
  },
  {
   "cell_type": "code",
   "execution_count": 5,
   "id": "e8e00202-615c-46f7-8e9e-cb14e6286f1e",
   "metadata": {},
   "outputs": [
    {
     "name": "stdout",
     "output_type": "stream",
     "text": [
      "五子棋游戏已保存为 gomoku.html\n"
     ]
    }
   ],
   "source": [
    "try:\n",
    "    # 调用 DeepSeek Chat API\n",
    "    response = client.chat.completions.create(\n",
    "        model=\"deepseek-chat\",  # 或 DeepSeek 提供的其他模型名称\n",
    "        messages=[\n",
    "            {\"role\": \"system\", \"content\": \"你是一个专业的 Web 开发助手，擅长用 HTML/CSS/JavaScript 编写游戏。\"},\n",
    "            {\"role\": \"user\", \"content\": prompt}\n",
    "        ],\n",
    "        temperature=0.7,\n",
    "        stream=False\n",
    "    )\n",
    "\n",
    "    # 提取生成的 HTML 内容\n",
    "    if response.choices and len(response.choices) > 0:\n",
    "        html_content = response.choices[0].message.content\n",
    "        \n",
    "        # 保存到文件\n",
    "        with open(\"gomoku.html\", \"w\", encoding=\"utf-8\") as f:\n",
    "            f.write(html_content)\n",
    "        print(\"五子棋游戏已保存为 gomoku.html\")\n",
    "    else:\n",
    "        print(\"未收到有效响应\")\n",
    "\n",
    "except Exception as e:\n",
    "    print(f\"调用 API 出错: {e}\")"
   ]
  },
  {
   "cell_type": "code",
   "execution_count": null,
   "id": "72bbc62a-4614-4d9f-ba3a-f67d6689e321",
   "metadata": {},
   "outputs": [],
   "source": []
  }
 ],
 "metadata": {
  "kernelspec": {
   "display_name": "Python 3 (ipykernel)",
   "language": "python",
   "name": "python3"
  },
  "language_info": {
   "codemirror_mode": {
    "name": "ipython",
    "version": 3
   },
   "file_extension": ".py",
   "mimetype": "text/x-python",
   "name": "python",
   "nbconvert_exporter": "python",
   "pygments_lexer": "ipython3",
   "version": "3.13.4"
  }
 },
 "nbformat": 4,
 "nbformat_minor": 5
}
